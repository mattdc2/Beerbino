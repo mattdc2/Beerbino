{
  "cells": [
    {
      "cell_type": "markdown",
      "source": [
        "# Modèle de classification de bières\n",
        "![leffe prédiction.jpeg](data:image/jpeg;base64,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)"
      ],
      "metadata": {
        "id": "GsSNT5GFh88i"
      }
    },
    {
      "cell_type": "markdown",
      "source": [
        "Ce notebook permet de générer différents jeux de données selon les configurations souhaitées (section 1), ainsi que d'entraîner et d'évaluer le modèle de classification (section 2).\n",
        "\n",
        "## Section 1 : Preprocessing des données"
      ],
      "metadata": {
        "id": "BgtNODlpiNw5"
      }
    },
    {
      "cell_type": "code",
      "execution_count": 2,
      "metadata": {
        "colab": {
          "base_uri": "https://localhost:8080/"
        },
        "id": "s6CS2CeIlMBY",
        "outputId": "656eec01-8c53-4834-b058-228f706e271c"
      },
      "outputs": [
        {
          "output_type": "stream",
          "name": "stdout",
          "text": [
            "Mounted at /content/drive\n"
          ]
        }
      ],
      "source": [
        "import pandas as pd\n",
        "import os\n",
        "import shutil\n",
        "from google.colab import drive\n",
        "drive.mount('/content/drive')\n",
        "%cd drive/MyDrive/Centrale/Beerbino"
      ]
    },
    {
      "cell_type": "markdown",
      "metadata": {
        "id": "w96GilfNlAH0"
      },
      "source": [
        "#### Transformation des dossiers de stockage des images pour faire apparaitre leur label"
      ]
    },
    {
      "cell_type": "code",
      "execution_count": 5,
      "metadata": {
        "colab": {
          "base_uri": "https://localhost:8080/",
          "height": 655
        },
        "id": "g89IdvIJlAH-",
        "outputId": "ce48b50c-f574-4aed-cff7-a9cee518f6a2"
      },
      "outputs": [
        {
          "output_type": "execute_result",
          "data": {
            "text/plain": [
              "              index_scrapping  \\\n",
              "unique_index                    \n",
              "0                           0   \n",
              "1                           1   \n",
              "2                           2   \n",
              "3                           3   \n",
              "4                           4   \n",
              "...                       ...   \n",
              "1458                      737   \n",
              "1459                      738   \n",
              "1460                      739   \n",
              "1461                      740   \n",
              "1462                      741   \n",
              "\n",
              "                                                     link_photo  \\\n",
              "unique_index                                                      \n",
              "0             https://media.auchan.fr/MEDIASTEP80202553_230x...   \n",
              "1             https://media.auchan.fr/MEDIASTEP157309628_230...   \n",
              "2             https://media.auchan.fr/MEDIASTEP66806491_230x...   \n",
              "3             https://media.auchan.fr/MEDIASTEP137932992_230...   \n",
              "4             https://media.auchan.fr/MEDIASTEP157260428_230...   \n",
              "...                                                         ...   \n",
              "1458          https://d33za54wpumlhy.cloudfront.net/eyJidWNr...   \n",
              "1459          https://d33za54wpumlhy.cloudfront.net/eyJidWNr...   \n",
              "1460          https://d33za54wpumlhy.cloudfront.net/eyJidWNr...   \n",
              "1461          https://d33za54wpumlhy.cloudfront.net/eyJidWNr...   \n",
              "1462          https://d33za54wpumlhy.cloudfront.net/eyJidWNr...   \n",
              "\n",
              "                                                     name  \\\n",
              "unique_index                                                \n",
              "0                                Bière blonde 11,8% boîte   \n",
              "1                        Bière blonde bio 7.2% bouteilles   \n",
              "2                        Bière blonde triple 8% bouteille   \n",
              "3                   Bière brassin de Noël 6,5% bouteilles   \n",
              "4                      Bière blonde triple signature 8.5%   \n",
              "...                                                   ...   \n",
              "1458                      The Bruery - Where Is the Lava?   \n",
              "1459          To Øl x Casey - Through the Eyes of Mortals   \n",
              "1460            The Bruery - So Happens It's Tuesday 2021   \n",
              "1461                Brooklyn x Russian River - Refraction   \n",
              "1462                                   Thornbridge Barden   \n",
              "\n",
              "                            brand              type      website   price  \n",
              "unique_index                                                              \n",
              "0                       BELZEBUTH               NaN       Auchan     NaN  \n",
              "1                      LA GOUDALE               NaN       Auchan     NaN  \n",
              "2               SECRET DES MOINES               NaN       Auchan     NaN  \n",
              "3                      GRIMBERGEN               NaN       Auchan     NaN  \n",
              "4                           CH'TI               NaN       Auchan     NaN  \n",
              "...                           ...               ...          ...     ...  \n",
              "1458                   The Bruery  wild / sour beer  SaveurBiere  19,90€  \n",
              "1459                        To Øl  wild / sour beer  SaveurBiere  16,50€  \n",
              "1460                   The Bruery    imperial stout  SaveurBiere  14,30€  \n",
              "1461             Brooklyn Brewery  wild / sour beer  SaveurBiere  24,90€  \n",
              "1462          Thornbridge Brewery  English Pale Ale  SaveurBiere   3,30€  \n",
              "\n",
              "[1463 rows x 7 columns]"
            ],
            "text/html": [
              "\n",
              "  <div id=\"df-1eed919c-3ff5-4984-b391-4a051d7c6a3a\">\n",
              "    <div class=\"colab-df-container\">\n",
              "      <div>\n",
              "<style scoped>\n",
              "    .dataframe tbody tr th:only-of-type {\n",
              "        vertical-align: middle;\n",
              "    }\n",
              "\n",
              "    .dataframe tbody tr th {\n",
              "        vertical-align: top;\n",
              "    }\n",
              "\n",
              "    .dataframe thead th {\n",
              "        text-align: right;\n",
              "    }\n",
              "</style>\n",
              "<table border=\"1\" class=\"dataframe\">\n",
              "  <thead>\n",
              "    <tr style=\"text-align: right;\">\n",
              "      <th></th>\n",
              "      <th>index_scrapping</th>\n",
              "      <th>link_photo</th>\n",
              "      <th>name</th>\n",
              "      <th>brand</th>\n",
              "      <th>type</th>\n",
              "      <th>website</th>\n",
              "      <th>price</th>\n",
              "    </tr>\n",
              "    <tr>\n",
              "      <th>unique_index</th>\n",
              "      <th></th>\n",
              "      <th></th>\n",
              "      <th></th>\n",
              "      <th></th>\n",
              "      <th></th>\n",
              "      <th></th>\n",
              "      <th></th>\n",
              "    </tr>\n",
              "  </thead>\n",
              "  <tbody>\n",
              "    <tr>\n",
              "      <th>0</th>\n",
              "      <td>0</td>\n",
              "      <td>https://media.auchan.fr/MEDIASTEP80202553_230x...</td>\n",
              "      <td>Bière blonde 11,8% boîte</td>\n",
              "      <td>BELZEBUTH</td>\n",
              "      <td>NaN</td>\n",
              "      <td>Auchan</td>\n",
              "      <td>NaN</td>\n",
              "    </tr>\n",
              "    <tr>\n",
              "      <th>1</th>\n",
              "      <td>1</td>\n",
              "      <td>https://media.auchan.fr/MEDIASTEP157309628_230...</td>\n",
              "      <td>Bière blonde bio 7.2% bouteilles</td>\n",
              "      <td>LA GOUDALE</td>\n",
              "      <td>NaN</td>\n",
              "      <td>Auchan</td>\n",
              "      <td>NaN</td>\n",
              "    </tr>\n",
              "    <tr>\n",
              "      <th>2</th>\n",
              "      <td>2</td>\n",
              "      <td>https://media.auchan.fr/MEDIASTEP66806491_230x...</td>\n",
              "      <td>Bière blonde triple 8% bouteille</td>\n",
              "      <td>SECRET DES MOINES</td>\n",
              "      <td>NaN</td>\n",
              "      <td>Auchan</td>\n",
              "      <td>NaN</td>\n",
              "    </tr>\n",
              "    <tr>\n",
              "      <th>3</th>\n",
              "      <td>3</td>\n",
              "      <td>https://media.auchan.fr/MEDIASTEP137932992_230...</td>\n",
              "      <td>Bière brassin de Noël 6,5% bouteilles</td>\n",
              "      <td>GRIMBERGEN</td>\n",
              "      <td>NaN</td>\n",
              "      <td>Auchan</td>\n",
              "      <td>NaN</td>\n",
              "    </tr>\n",
              "    <tr>\n",
              "      <th>4</th>\n",
              "      <td>4</td>\n",
              "      <td>https://media.auchan.fr/MEDIASTEP157260428_230...</td>\n",
              "      <td>Bière blonde triple signature 8.5%</td>\n",
              "      <td>CH'TI</td>\n",
              "      <td>NaN</td>\n",
              "      <td>Auchan</td>\n",
              "      <td>NaN</td>\n",
              "    </tr>\n",
              "    <tr>\n",
              "      <th>...</th>\n",
              "      <td>...</td>\n",
              "      <td>...</td>\n",
              "      <td>...</td>\n",
              "      <td>...</td>\n",
              "      <td>...</td>\n",
              "      <td>...</td>\n",
              "      <td>...</td>\n",
              "    </tr>\n",
              "    <tr>\n",
              "      <th>1458</th>\n",
              "      <td>737</td>\n",
              "      <td>https://d33za54wpumlhy.cloudfront.net/eyJidWNr...</td>\n",
              "      <td>The Bruery - Where Is the Lava?</td>\n",
              "      <td>The Bruery</td>\n",
              "      <td>wild / sour beer</td>\n",
              "      <td>SaveurBiere</td>\n",
              "      <td>19,90€</td>\n",
              "    </tr>\n",
              "    <tr>\n",
              "      <th>1459</th>\n",
              "      <td>738</td>\n",
              "      <td>https://d33za54wpumlhy.cloudfront.net/eyJidWNr...</td>\n",
              "      <td>To Øl x Casey - Through the Eyes of Mortals</td>\n",
              "      <td>To Øl</td>\n",
              "      <td>wild / sour beer</td>\n",
              "      <td>SaveurBiere</td>\n",
              "      <td>16,50€</td>\n",
              "    </tr>\n",
              "    <tr>\n",
              "      <th>1460</th>\n",
              "      <td>739</td>\n",
              "      <td>https://d33za54wpumlhy.cloudfront.net/eyJidWNr...</td>\n",
              "      <td>The Bruery - So Happens It's Tuesday 2021</td>\n",
              "      <td>The Bruery</td>\n",
              "      <td>imperial stout</td>\n",
              "      <td>SaveurBiere</td>\n",
              "      <td>14,30€</td>\n",
              "    </tr>\n",
              "    <tr>\n",
              "      <th>1461</th>\n",
              "      <td>740</td>\n",
              "      <td>https://d33za54wpumlhy.cloudfront.net/eyJidWNr...</td>\n",
              "      <td>Brooklyn x Russian River - Refraction</td>\n",
              "      <td>Brooklyn Brewery</td>\n",
              "      <td>wild / sour beer</td>\n",
              "      <td>SaveurBiere</td>\n",
              "      <td>24,90€</td>\n",
              "    </tr>\n",
              "    <tr>\n",
              "      <th>1462</th>\n",
              "      <td>741</td>\n",
              "      <td>https://d33za54wpumlhy.cloudfront.net/eyJidWNr...</td>\n",
              "      <td>Thornbridge Barden</td>\n",
              "      <td>Thornbridge Brewery</td>\n",
              "      <td>English Pale Ale</td>\n",
              "      <td>SaveurBiere</td>\n",
              "      <td>3,30€</td>\n",
              "    </tr>\n",
              "  </tbody>\n",
              "</table>\n",
              "<p>1463 rows × 7 columns</p>\n",
              "</div>\n",
              "      <button class=\"colab-df-convert\" onclick=\"convertToInteractive('df-1eed919c-3ff5-4984-b391-4a051d7c6a3a')\"\n",
              "              title=\"Convert this dataframe to an interactive table.\"\n",
              "              style=\"display:none;\">\n",
              "        \n",
              "  <svg xmlns=\"http://www.w3.org/2000/svg\" height=\"24px\"viewBox=\"0 0 24 24\"\n",
              "       width=\"24px\">\n",
              "    <path d=\"M0 0h24v24H0V0z\" fill=\"none\"/>\n",
              "    <path d=\"M18.56 5.44l.94 2.06.94-2.06 2.06-.94-2.06-.94-.94-2.06-.94 2.06-2.06.94zm-11 1L8.5 8.5l.94-2.06 2.06-.94-2.06-.94L8.5 2.5l-.94 2.06-2.06.94zm10 10l.94 2.06.94-2.06 2.06-.94-2.06-.94-.94-2.06-.94 2.06-2.06.94z\"/><path d=\"M17.41 7.96l-1.37-1.37c-.4-.4-.92-.59-1.43-.59-.52 0-1.04.2-1.43.59L10.3 9.45l-7.72 7.72c-.78.78-.78 2.05 0 2.83L4 21.41c.39.39.9.59 1.41.59.51 0 1.02-.2 1.41-.59l7.78-7.78 2.81-2.81c.8-.78.8-2.07 0-2.86zM5.41 20L4 18.59l7.72-7.72 1.47 1.35L5.41 20z\"/>\n",
              "  </svg>\n",
              "      </button>\n",
              "      \n",
              "  <style>\n",
              "    .colab-df-container {\n",
              "      display:flex;\n",
              "      flex-wrap:wrap;\n",
              "      gap: 12px;\n",
              "    }\n",
              "\n",
              "    .colab-df-convert {\n",
              "      background-color: #E8F0FE;\n",
              "      border: none;\n",
              "      border-radius: 50%;\n",
              "      cursor: pointer;\n",
              "      display: none;\n",
              "      fill: #1967D2;\n",
              "      height: 32px;\n",
              "      padding: 0 0 0 0;\n",
              "      width: 32px;\n",
              "    }\n",
              "\n",
              "    .colab-df-convert:hover {\n",
              "      background-color: #E2EBFA;\n",
              "      box-shadow: 0px 1px 2px rgba(60, 64, 67, 0.3), 0px 1px 3px 1px rgba(60, 64, 67, 0.15);\n",
              "      fill: #174EA6;\n",
              "    }\n",
              "\n",
              "    [theme=dark] .colab-df-convert {\n",
              "      background-color: #3B4455;\n",
              "      fill: #D2E3FC;\n",
              "    }\n",
              "\n",
              "    [theme=dark] .colab-df-convert:hover {\n",
              "      background-color: #434B5C;\n",
              "      box-shadow: 0px 1px 3px 1px rgba(0, 0, 0, 0.15);\n",
              "      filter: drop-shadow(0px 1px 2px rgba(0, 0, 0, 0.3));\n",
              "      fill: #FFFFFF;\n",
              "    }\n",
              "  </style>\n",
              "\n",
              "      <script>\n",
              "        const buttonEl =\n",
              "          document.querySelector('#df-1eed919c-3ff5-4984-b391-4a051d7c6a3a button.colab-df-convert');\n",
              "        buttonEl.style.display =\n",
              "          google.colab.kernel.accessAllowed ? 'block' : 'none';\n",
              "\n",
              "        async function convertToInteractive(key) {\n",
              "          const element = document.querySelector('#df-1eed919c-3ff5-4984-b391-4a051d7c6a3a');\n",
              "          const dataTable =\n",
              "            await google.colab.kernel.invokeFunction('convertToInteractive',\n",
              "                                                     [key], {});\n",
              "          if (!dataTable) return;\n",
              "\n",
              "          const docLinkHtml = 'Like what you see? Visit the ' +\n",
              "            '<a target=\"_blank\" href=https://colab.research.google.com/notebooks/data_table.ipynb>data table notebook</a>'\n",
              "            + ' to learn more about interactive tables.';\n",
              "          element.innerHTML = '';\n",
              "          dataTable['output_type'] = 'display_data';\n",
              "          await google.colab.output.renderOutput(dataTable, element);\n",
              "          const docLink = document.createElement('div');\n",
              "          docLink.innerHTML = docLinkHtml;\n",
              "          element.appendChild(docLink);\n",
              "        }\n",
              "      </script>\n",
              "    </div>\n",
              "  </div>\n",
              "  "
            ]
          },
          "metadata": {},
          "execution_count": 5
        }
      ],
      "source": [
        "#On lit le csv issu du scraping contenant les labels des images\n",
        "bieres = pd.read_csv(\"scraping/data_beers.csv\",sep=\";\")\n",
        "bieres.columns = ['unique_id','index_scrapping','link_photo','name','brand','type','website','price']\n",
        "bieres.drop(\"unique_id\", inplace=True, axis=1)\n",
        "bieres.rename_axis(index=\"unique_index\", axis=1)"
      ]
    },
    {
      "cell_type": "code",
      "execution_count": 6,
      "metadata": {
        "id": "cGcZRsZBlAIA"
      },
      "outputs": [],
      "source": [
        "marques = bieres.groupby(\"brand\").all().reset_index()\n",
        "marques.drop([\"index_scrapping\",\"link_photo\",\"name\",\"type\",\"website\",\"price\"], inplace=True, axis=1)"
      ]
    },
    {
      "cell_type": "code",
      "execution_count": 7,
      "metadata": {
        "id": "x2HfamUMlAIB"
      },
      "outputs": [],
      "source": [
        "list_brands = list(marques.brand)"
      ]
    },
    {
      "cell_type": "markdown",
      "metadata": {
        "id": "KCc4dn9vlAIC"
      },
      "source": [
        "#### Création des dossiers regroupant les bières par marque, permettant d'utiliser des DataLoader existants (le dossier doit porter le nom du label des images qu'il contient)\n"
      ]
    },
    {
      "cell_type": "code",
      "execution_count": 9,
      "metadata": {
        "id": "A09tCHEWlAID"
      },
      "outputs": [],
      "source": [
        "for brand in list_brands:\n",
        "    try:\n",
        "        os.mkdir(f'scraping/data/folders/{brand}')\n",
        "    except:\n",
        "        pass"
      ]
    },
    {
      "cell_type": "markdown",
      "metadata": {
        "id": "ubjqHYOmlAIE"
      },
      "source": [
        "#### Ajout des photos dans les bons dossiers\n"
      ]
    },
    {
      "cell_type": "code",
      "execution_count": 10,
      "metadata": {
        "id": "cKKOOTILlAIF"
      },
      "outputs": [],
      "source": [
        "for image_id in range(1463):\n",
        "    brand = bieres.iloc[image_id].brand\n",
        "    try:\n",
        "        shutil.copyfile(f'scraping/data/images/{image_id}.jpg',f'scraping/data/folders/{brand}/{image_id}.jpg')\n",
        "    except:\n",
        "        pass"
      ]
    },
    {
      "cell_type": "code",
      "execution_count": 11,
      "metadata": {
        "colab": {
          "base_uri": "https://localhost:8080/"
        },
        "id": "Kv-X5LyWlAIH",
        "outputId": "50a162a1-95cd-4e51-93d4-15619d4f54fd"
      },
      "outputs": [
        {
          "output_type": "execute_result",
          "data": {
            "text/plain": [
              "13"
            ]
          },
          "metadata": {},
          "execution_count": 11
        }
      ],
      "source": [
        "## Test \n",
        "brand = \"3 MONTS\"\n",
        "len(os.listdir(f'scraping/data/folders/{brand}'))"
      ]
    },
    {
      "cell_type": "markdown",
      "metadata": {
        "id": "0-TsI8f0lAIK"
      },
      "source": [
        "### Data augmentation"
      ]
    },
    {
      "cell_type": "code",
      "execution_count": 16,
      "metadata": {
        "id": "_CRYSU5alAIM"
      },
      "outputs": [],
      "source": [
        "brands = os.listdir(f'scraping/data/folders')"
      ]
    },
    {
      "cell_type": "code",
      "source": [
        "brands"
      ],
      "metadata": {
        "colab": {
          "base_uri": "https://localhost:8080/"
        },
        "id": "6492xcct7zVP",
        "outputId": "67e403f2-1b43-4544-f5fa-9cb943c2d6d7"
      },
      "execution_count": 17,
      "outputs": [
        {
          "output_type": "execute_result",
          "data": {
            "text/plain": [
              "['3 MONTS',\n",
              " 'ANOSTEKE',\n",
              " 'Abbaye de Leffe ',\n",
              " 'Alesong Brewing & Blending',\n",
              " 'Almanac Beer Company',\n",
              " 'Amundsen',\n",
              " 'BELZEBUTH',\n",
              " 'BRASSERIE MONT BLANC',\n",
              " 'BRASSERIE VAL DE DROME MARKUS',\n",
              " 'BREWDOG',\n",
              " 'BROOKLYN',\n",
              " 'Basqueland Brewing Project',\n",
              " 'Belching Beaver Brewery',\n",
              " 'Bendorf',\n",
              " 'Brasserie Bosteels',\n",
              " 'Brasserie Dupont',\n",
              " 'Brasserie Ginette',\n",
              " 'Brasserie Huyghe',\n",
              " 'Brasserie Koningshoeven',\n",
              " 'Brasserie La Débauche',\n",
              " 'Brasserie Lindemans',\n",
              " 'Brasserie Rabourdin',\n",
              " 'Brasserie Sainte Cru',\n",
              " 'Brasserie St-Feuillien',\n",
              " 'Brasserie de Bretagne',\n",
              " 'Brasserie de Sulauze',\n",
              " \"Brasserie de la Goutte d'Or\",\n",
              " 'Brasserie du Grand Paris',\n",
              " 'Brasserie du Mont Blanc',\n",
              " 'Brewdog Brewery',\n",
              " 'Brooklyn Brewery',\n",
              " 'Brussels Beer Project',\n",
              " \"CH'TI\",\n",
              " 'CHIMAY',\n",
              " 'Cascade Brewing',\n",
              " 'Craig Allan',\n",
              " 'Crew Republic',\n",
              " 'DUVEL',\n",
              " 'Deck & Donohue',\n",
              " 'Dois Corvos',\n",
              " 'Drakes Brewing Company',\n",
              " 'Effet Papillon',\n",
              " 'Founders Brewing Company',\n",
              " 'Fremont Brewing',\n",
              " 'Frontaal',\n",
              " 'Hertog Jan',\n",
              " 'JENLAIN',\n",
              " 'KARMELIET',\n",
              " 'KASTEEL',\n",
              " 'LA CHOUFFE',\n",
              " 'LA GOUDALE',\n",
              " 'LA GUEULE DE BLOIS',\n",
              " 'LEFFE',\n",
              " 'LICORNE',\n",
              " 'LINDEMANS',\n",
              " 'La Débauche',\n",
              " 'La Malpolon',\n",
              " \"La P'tite Maiz\",\n",
              " 'Lambrate',\n",
              " 'Lowlander Beer',\n",
              " 'MASCARET',\n",
              " 'Magic Rock Brewing',\n",
              " 'Omnipollo',\n",
              " 'Oppigårds Bryggeri',\n",
              " 'PIETRA',\n",
              " 'Pleine Lune',\n",
              " 'Popihn',\n",
              " 'Põhjala Brewery',\n",
              " 'Pühaste',\n",
              " 'RINCE COCHON',\n",
              " \"Reuben's Brews\",\n",
              " 'Sakiškiu alus',\n",
              " 'Samuel Smith',\n",
              " 'Schneider Weisse',\n",
              " 'Siren Craft Brew',\n",
              " 'Sori Brewing',\n",
              " 'Spaten-Franziskaner-Brau',\n",
              " 'Tempest Brewing Company',\n",
              " 'The Bruery',\n",
              " 'The White Hag Brewery',\n",
              " 'The Wild Beer Co',\n",
              " 'Thornbridge Brewery',\n",
              " 'Tiny Rebel',\n",
              " 'To Øl',\n",
              " 'To øl City',\n",
              " 'Urban Family Brewing',\n",
              " 'VEDETT',\n",
              " 'VEZELAY',\n",
              " 'VICTORIA',\n",
              " 'Val Dieu',\n",
              " 'Vault City Brewing',\n",
              " 'Vocation Brewery',\n",
              " 'WEL SCOTCH',\n",
              " 'WESTMALLE',\n",
              " 'Weihenstephaner',\n",
              " 'Weltenburger',\n",
              " 'Whiplash',\n",
              " 'Wicked Weed Brewing',\n",
              " 'Yeastie Boys',\n",
              " 'ZooBrew']"
            ]
          },
          "metadata": {},
          "execution_count": 17
        }
      ]
    },
    {
      "cell_type": "markdown",
      "source": [
        "### Augmentation de données : on parcourt les dossiers voulus et on effectue plusieurs transformations pour chaque image"
      ],
      "metadata": {
        "id": "ZbSFuzYfjnnO"
      }
    },
    {
      "cell_type": "code",
      "execution_count": 18,
      "metadata": {
        "id": "O81lI4qtlAIN"
      },
      "outputs": [],
      "source": [
        "from PIL import Image, ImageFilter\n",
        "import os, sys\n",
        "import random\n",
        "from torchvision import datasets, transforms, models\n",
        "\n",
        "for brand in brands:  \n",
        "    for infile in os.listdir(f'scraping/data/folders/{brand}'):\n",
        "        with Image.open(f'scraping/data/folders/{brand}/{infile}') as im:\n",
        "            try : \n",
        "                bright, satur, contrast, hue, out_90, out_180, out_270, grey, blurred,  = transforms.ColorJitter(brightness=2.5)(im.convert('RGB')), transforms.ColorJitter(saturation=2)(im.convert('RGB')), transforms.ColorJitter(contrast=2)(im.convert('RGB')), transforms.ColorJitter(hue=0.2)(im.convert('RGB')), im.convert('RGB').transpose(Image.ROTATE_90), im.convert('RGB').transpose(Image.ROTATE_180),im.convert('RGB').transpose(Image.ROTATE_270), im.convert('RGB').convert('L'), im.convert('RGB').filter(ImageFilter.BLUR)\n",
        "                new_index = bieres.index[-1] + 1\n",
        "                bright.save(f'scraping/data/folders/{brand}/{new_index}.jpg')\n",
        "                bieres.loc[new_index] = [\"NaN\",\"NaN\",\"NaN\",brand,\"NaN\",\"NaN\",\"NaN\"]\n",
        "                new_index = bieres.index[-1] + 1\n",
        "                satur.save(f'scraping/data/folders/{brand}/{new_index}.jpg')\n",
        "                bieres.loc[new_index] = [\"NaN\",\"NaN\",\"NaN\",brand,\"NaN\",\"NaN\",\"NaN\"]\n",
        "                new_index = bieres.index[-1] + 1\n",
        "                contrast.save(f'scraping/data/folders/{brand}/{new_index}.jpg')\n",
        "                bieres.loc[new_index] = [\"NaN\",\"NaN\",\"NaN\",brand,\"NaN\",\"NaN\",\"NaN\"]\n",
        "                new_index = bieres.index[-1] + 1\n",
        "                hue.save(f'scraping/data/folders/{brand}/{new_index}.jpg')\n",
        "                bieres.loc[new_index] = [\"NaN\",\"NaN\",\"NaN\",brand,\"NaN\",\"NaN\",\"NaN\"]              \n",
        "                new_index = bieres.index[-1] + 1\n",
        "                out_90.save(f'scraping/data/folders/{brand}/{new_index}.jpg')\n",
        "                bieres.loc[new_index] = [\"NaN\",\"NaN\",\"NaN\",brand,\"NaN\",\"NaN\",\"NaN\"]\n",
        "                new_index = bieres.index[-1]+1\n",
        "                out_180.save(f'scraping/data/folders/{brand}/{new_index}.jpg')\n",
        "                bieres.loc[new_index] = [\"NaN\",\"NaN\",\"NaN\",brand,\"NaN\",\"NaN\",\"NaN\"]\n",
        "                new_index = bieres.index[-1]+1\n",
        "                out_270.save(f'scraping/data/folders/{brand}/{new_index}.jpg')\n",
        "                bieres.loc[new_index] = [\"NaN\",\"NaN\",\"NaN\",brand,\"NaN\",\"NaN\",\"NaN\"]\n",
        "                new_index = bieres.index[-1]+1 \n",
        "                grey.save(f'scraping/data/folders/{brand}/{new_index}.jpg')\n",
        "                bieres.loc[new_index] = [\"NaN\",\"NaN\",\"NaN\",brand,\"NaN\",\"NaN\",\"NaN\"]\n",
        "                new_index = bieres.index[-1]+1 \n",
        "                blurred.save(f'scraping/data/folders/{brand}/{new_index}.jpg')\n",
        "                bieres.loc[new_index] = [\"NaN\",\"NaN\",\"NaN\",brand,\"NaN\",\"NaN\",\"NaN\"]\n",
        "            except :\n",
        "                pass"
      ]
    },
    {
      "cell_type": "markdown",
      "metadata": {
        "id": "E0nJiaMzUA4a"
      },
      "source": [
        "### Suppression des données en trop (pour réduire le nombre de classes)"
      ]
    },
    {
      "cell_type": "code",
      "execution_count": 13,
      "metadata": {
        "colab": {
          "base_uri": "https://localhost:8080/"
        },
        "id": "XQulR82BUDOD",
        "outputId": "17e1145a-5095-4f6a-c41d-24787b2c5b0c"
      },
      "outputs": [
        {
          "output_type": "stream",
          "name": "stdout",
          "text": [
            "251 ['1664', '3 Fonteinen', '4 Noses', 'AB InBev', \"Abbaye d'Achel\", \"Abbaye d'Orval\", 'Abbaye de Grimbergen', 'Abbaye de Maredsous', 'Abbaye de Rochefort', 'Abbaye de Scourmont - Chimay', 'Abbaye de Stift Engelszell', 'Abbaye de Westmalle', 'Abbazia delle Tre Fontane', 'Abnormal Beer Co.', 'Alken-Maes', 'Alpine Beer Company', 'Amager Bryghus', 'Anchor Brewing Company', 'Ardwen', 'Asahi Brewers', 'Azimut', 'BELLEROSE', 'BEWIZ', 'BIERE DU COMTE', 'BIERE DU CORBEAU', 'BIERE DU DEMON', 'BLANCHE DE NAMUR', 'BRASSERIE DES 3 PHARES', 'BRASSERIE DU PEPERE', 'BRASSEURS SAVOYARDS', 'BRUNEHAUT', 'BUSH', 'Belle-Vue', 'Big Drop Brewing Co', 'Big Mountain', 'Birra Del Borgo', 'Black Project', 'Boundary', \"Brasserie 't IJ\", 'Brasserie Akerbeltz', 'Brasserie Atrium', 'Brasserie Au Baron', 'Brasserie Beck', 'Brasserie Bockor ', 'Brasserie Castelain', 'Brasserie Caulier', 'Brasserie Coreff', 'Brasserie Corsendonk', 'Brasserie De Halve Maan', 'Brasserie De Hoorn', 'Brasserie De Ranke', 'Brasserie Dubuisson', 'Brasserie F. Boon', 'Brasserie Franche Montagne (BFM)', 'Brasserie Gingeur', 'Brasserie Haacht', 'Brasserie Het Anker', 'Brasserie Kulmbacher', 'Brasserie Lefebvre', 'Brasserie Lupulus', 'Brasserie Mélusine', 'Brasserie Pietra', 'Brasserie Saint Germain', 'Brasserie Sainte Crucienne', 'Brasserie Schloss Eggenberg', 'Brasserie Van Honsebrouck', 'Brasserie Van Steenberge', 'Brasserie Vanuxeem', 'Brasserie Verhaeghe', \"Brasserie d'Achouffe\", \"Brasserie d'Orgemont\", 'Brasserie de Blaugies', 'Brasserie de Brunehaut', 'Brasserie de l Abbaye des Rocs ', \"Brasserie de l'Être\", 'Brasserie de la Senne', 'Brasserie des légendes', 'Brasserie du Bocq', 'Brasserie du Pays Flamand', 'Brasseries du Maroc', 'Brehon Brewhouse', 'Brew by  Numbers', 'Brique House', 'Brouwerij De Brabandere (Bavik)', 'Brouwerij Kazematten', 'Brouwerij Kees', 'Brouwerij Omer Vander Ghinste', 'Brouwerij Verstraete', 'Budweiser', 'CARLSBERG', 'CAROLUS', 'CASTELAIN', 'CINEY', 'CORBEAU', 'CORNET', 'CORSENDONK', 'CUVEE DES TROLLS', 'Cambier', 'Camden Town Brewery', 'Carlow Brewing Company', 'Cerveceria y Malteria Quilmes', 'Cobra', 'Coconino', 'Collective Arts Brewing', 'Coopers Brewery', 'Coors', 'Corona', 'DE VELDEN', 'DELIRIUM', 'DOMINICAINS', 'DUCASSE', 'De Dochter van de Korenaar', 'Diebels', 'Dieu du ciel', 'Dot Brewing', 'Dry & Bitter', 'Duvel Moortgat', 'EKU 28', 'ERDINGER', 'Einstok Olgerd', 'Erdinger', 'Ermitage', 'Extraomnes', 'FISCHER', 'FOUDROYANTE', 'Fierce', 'Flying Dog Brewery', 'Flügge', 'G DE GOUDALE', 'GALLIA', 'GLENFIDDICH', 'GOUDALE', \"GRAIN D'ORGE\", 'GRIMBERGEN', 'GUINNESS', 'Galibot', 'Garrigues', 'Goose Island Beer Company', 'Gordon', 'Green Flash Brewing Company', \"Guinness St. James's Gate\", 'Gweilo', 'HAPKIN', 'HEINEKEN', 'HOMMELBIER', 'Hacker-Pschorr', 'Hartwall Royal Unibrew', 'Hinano', 'Hoegaarden', 'Hofbräuhaus München', 'Hoppy Road', 'IBB', 'Iki', 'Innis & Gunn', 'Iron Brewery', 'JADE', 'Jopen', 'Jupiler', 'KEKETTE', 'KWAK', 'Kirin Brewery Company', 'Kona Brewing Company', \"L'ANGELUS\", 'LA BIERE DU DEMON', 'LA BOUFONNE', 'LA BÊTE', 'LA CERVOISE DES ANCETRES', 'LA CHOULETTE', 'LA DOCKER', 'LA FIERE', 'LA RAOUL', 'LA TRAPPE', 'LAGUNITAS', 'LE BALLON', 'LE FUT SARLADAIS', 'LEVRETTE', 'LIEFMANS', 'LUPULUS', 'La Brasserie Fondamentale', 'La Cagole', 'La Corne du Bois des Pendus', 'La Pirata Brewing', 'La Virgen', 'La dodo', 'Laugar Brewery', 'Le Détour', 'Liefmans', 'Little Creatures', 'Lowenbräu', 'MAREDSOUS', 'METEOR', 'MIRA', 'MORT SUBITE', \"MOULINS D'ASCQ\", 'MOUNTA CALA', 'Malheur', 'McAuslan Brewing', 'Mean Sardine', 'Mikkeller', 'Modern Times Beer', 'Molson Breweries', 'Mont des Cats', 'Mount St Bernard Abbey', 'NINKASI', 'New Image', 'North Coast', 'O Brother Brewing', \"O'clock Brewing\", 'Offshoot Beer Co.', 'PAGE 24', 'PAIX DIEU', \"PASTO'RALE\", 'PELFORTH', 'PERLE', 'PIRAAT', 'POLAR MONKEYS', 'Paname Brewing Company', 'Paradox', 'Paulaner', 'Poppels Bryggeri', 'PÈRE BRASSEUR', 'QUEUE DE CHARRUE', 'ROCHEFORT', 'Rascals Brewing', 'Robinsons', 'Rodenbach', 'SAGRES', 'SECRET DES MOINES', 'SLASH', 'ST BERNARDUS', 'ST FEUILLIEN', 'Samuel Adams', 'Sapporo', 'Saveur Bière', 'Sierra Nevada Brewing Company', 'Singha', \"St Joseph's Abbey\", 'St. Bernardus', 'Staropramen Breweries', 'Stella Artois', 'TERRE DE BIERES', 'TETE DE MULE', 'The Brew Society Heule', 'The Piggy Brewing Company', 'The Rare Barrel', 'The Wild Beer Co.', 'Timmermans', 'Trappistenbrouwerij De Kievit', 'Tsingtao', 'Uiltje Brewing Company', 'Upslope']\n"
          ]
        }
      ],
      "source": [
        "import shutil\n",
        "count=0\n",
        "brand_removed = []\n",
        "for brand in os.listdir(f'scraping/data/folders'):\n",
        "    nb_bieres_dossier = len(os.listdir(f'scraping/data/folders/{brand}'))\n",
        "    if nb_bieres_dossier < 6 and count < 251 : #permet de passer de 351 à 100 classes\n",
        "        shutil.rmtree(f'scraping/data/folders/{brand}')\n",
        "        brand_removed.append(brand)\n",
        "        count+=1\n",
        "print(count, brand_removed)\n"
      ]
    },
    {
      "cell_type": "code",
      "source": [
        "print(len(os.listdir(f'scraping/data/folders'))) #nombre de classes"
      ],
      "metadata": {
        "colab": {
          "base_uri": "https://localhost:8080/"
        },
        "id": "we2OjaNJ4wZl",
        "outputId": "43e1a114-4fd7-4169-e7b4-555a6f188707"
      },
      "execution_count": 19,
      "outputs": [
        {
          "output_type": "stream",
          "name": "stdout",
          "text": [
            "100\n"
          ]
        }
      ]
    },
    {
      "cell_type": "markdown",
      "metadata": {
        "id": "HjMoHXnMh0qu"
      },
      "source": [
        "### Compter le nombre total d'images\n"
      ]
    },
    {
      "cell_type": "code",
      "execution_count": 20,
      "metadata": {
        "colab": {
          "base_uri": "https://localhost:8080/"
        },
        "id": "htzBDgggh3a6",
        "outputId": "1a7ba063-b138-41a1-affc-9bd10391998c"
      },
      "outputs": [
        {
          "output_type": "stream",
          "name": "stdout",
          "text": [
            "85.6\n"
          ]
        }
      ],
      "source": [
        "count = 0\n",
        "for brand in os.listdir(f'scraping/data/folders'):\n",
        "  count+= len(os.listdir(f'scraping/data/folders/{brand}'))\n",
        "print(count/len(os.listdir(f'scraping/data/folders'))) #nombre d'images moyen par classe"
      ]
    },
    {
      "cell_type": "markdown",
      "metadata": {
        "id": "acoMh_htlAIQ"
      },
      "source": [
        "## Section 2 : Classification des bières\n"
      ]
    },
    {
      "cell_type": "code",
      "execution_count": 5,
      "metadata": {
        "id": "_i1o3jCflAIR"
      },
      "outputs": [],
      "source": [
        "import torch\n",
        "import numpy as np\n",
        "from sklearn.model_selection import train_test_split\n",
        "import sys\n",
        "from torchvision import datasets, transforms, models\n",
        "import torch.nn as nn\n",
        "import torch.optim as optim\n",
        "import tqdm\n",
        "import matplotlib.pyplot as plt\n"
      ]
    },
    {
      "cell_type": "code",
      "execution_count": 6,
      "metadata": {
        "id": "JxCQ8rr17Kpp"
      },
      "outputs": [],
      "source": [
        "# Paramètres du modèle\n",
        "BATCH_SIZE = 32\n",
        "NB_EPOCHS = 4\n",
        "LEARNING_RATE = 0.1\n",
        "TEST_SIZE = 0.2\n",
        "mean = np.array([0.485, 0.456, 0.406])\n",
        "std = np.array([0.229, 0.224, 0.225])\n",
        "size = [224, 224]"
      ]
    },
    {
      "cell_type": "markdown",
      "metadata": {
        "id": "fg33Qx8M1lwh"
      },
      "source": [
        "Transformations à appliquer (différentes pour le train, le val et le test). Dans le train, on effectue des transformations aléatoires à effet régularisateur."
      ]
    },
    {
      "cell_type": "code",
      "execution_count": 7,
      "metadata": {
        "id": "CJ0gqlFVlAIR"
      },
      "outputs": [],
      "source": [
        "data_transforms = {\n",
        "    'train': transforms.Compose([\n",
        "        transforms.Resize(size),\n",
        "        transforms.RandomApply(transforms=[transforms.GaussianBlur(kernel_size=(5, 9), sigma=(0.1, 5))], p=0.1),\n",
        "        transforms.RandomApply(transforms=[transforms.RandomRotation(degrees=(0, 180))], p=0.1),\n",
        "        transforms.RandomApply(transforms=[transforms.RandomInvert()], p=0.1),\n",
        "        transforms.RandomApply(transforms=[transforms.RandomPosterize(bits=2)], p=0.1),\n",
        "        transforms.RandomApply(transforms=[transforms.RandomCrop(size=(64, 64)), transforms.Resize(size)], p=0.1),\n",
        "        transforms.RandomApply(transforms=[transforms.RandomAdjustSharpness(sharpness_factor=2)], p=0.1),\n",
        "        transforms.ToTensor(),\n",
        "        transforms.Normalize(mean=mean, std=std)\n",
        "        ]),\n",
        "    'val': transforms.Compose([\n",
        "        transforms.Resize(size),\n",
        "        transforms.ToTensor(),\n",
        "        transforms.Normalize(mean=mean, std=std)\n",
        "    ]),\n",
        "    'test': transforms.Compose([\n",
        "        transforms.Resize(size),\n",
        "        transforms.ToTensor(),\n",
        "        transforms.Normalize(mean=mean, std=std)\n",
        "    ]),\n",
        "}"
      ]
    },
    {
      "cell_type": "code",
      "execution_count": 8,
      "metadata": {
        "id": "QJKwlPbtlAIS"
      },
      "outputs": [],
      "source": [
        "# on lit une première fois les images du dataset\n",
        "image_directory = \"./scraping/data/folders\"\n",
        "dataset_full = datasets.ImageFolder(image_directory, data_transforms['test'])"
      ]
    },
    {
      "cell_type": "code",
      "execution_count": 9,
      "metadata": {
        "colab": {
          "base_uri": "https://localhost:8080/"
        },
        "id": "zhMvl4QLlAIS",
        "outputId": "915462bd-009b-441a-da34-7a9c4a2a9bfb"
      },
      "outputs": [
        {
          "output_type": "stream",
          "name": "stdout",
          "text": [
            "Nombre d'images de train : 5136\n",
            "Nombre d'images de val : 1284\n",
            "Nombre d'images de test : 2140\n"
          ]
        }
      ],
      "source": [
        "# on split en train, val et test à partir de la liste complète\n",
        "np.random.seed(42)\n",
        "samples_train, samples_test = train_test_split(dataset_full.samples)\n",
        "samples_train, samples_val = train_test_split(samples_train,test_size=TEST_SIZE)\n",
        "\n",
        "print(\"Nombre d'images de train : %i\" % len(samples_train))\n",
        "print(\"Nombre d'images de val : %i\" % len(samples_val))\n",
        "print(\"Nombre d'images de test : %i\" % len(samples_test))"
      ]
    },
    {
      "cell_type": "code",
      "execution_count": 10,
      "metadata": {
        "colab": {
          "base_uri": "https://localhost:8080/"
        },
        "id": "FMteTUTWlAIS",
        "outputId": "9ee08e4d-f254-42ab-d0a6-3835be9c4aed"
      },
      "outputs": [
        {
          "output_type": "execute_result",
          "data": {
            "text/plain": [
              "<torch._C.Generator at 0x7f13494ca370>"
            ]
          },
          "metadata": {},
          "execution_count": 10
        }
      ],
      "source": [
        "# on définit les datasets et loaders pytorch à partir des listes d'images de train / val / test\n",
        "dataset_train = datasets.ImageFolder(image_directory, data_transforms['train'])\n",
        "dataset_train.samples = samples_train\n",
        "dataset_train.imgs = samples_train\n",
        "loader_train = torch.utils.data.DataLoader(dataset_train, batch_size=BATCH_SIZE, shuffle=True, num_workers=2)\n",
        "\n",
        "dataset_val = datasets.ImageFolder(image_directory, data_transforms['val'])\n",
        "dataset_val.samples = samples_val\n",
        "dataset_val.imgs = samples_val\n",
        "\n",
        "dataset_test = datasets.ImageFolder(image_directory, data_transforms['test'])\n",
        "dataset_test.samples = samples_test\n",
        "dataset_test.imgs = samples_test\n",
        "\n",
        "torch.manual_seed(42)"
      ]
    },
    {
      "cell_type": "code",
      "execution_count": 11,
      "metadata": {
        "colab": {
          "base_uri": "https://localhost:8080/"
        },
        "id": "sSPEGNvclAIT",
        "outputId": "76a8d1aa-8b76-47f4-ea2a-048d2c0e91cc"
      },
      "outputs": [
        {
          "output_type": "stream",
          "name": "stdout",
          "text": [
            "Apprentissage sur 100 classes\n"
          ]
        }
      ],
      "source": [
        "#On définit les labels\n",
        "labels=range(len(os.listdir(f'scraping/data/folders'))) #nombre de classes\n",
        "if np.min(labels) != 0:\n",
        "    print(\"Error: labels should start at 0 (min is %i)\" % np.min(labels))\n",
        "    sys.exit(-1)\n",
        "if np.max(labels) != (len(np.unique(labels))-1):\n",
        "    print(\"Error: labels should go from 0 to Nclasses (max label = {}; Nclasse = {})\".format(np.max(labels),len(np.unique(labels)))  )\n",
        "    sys.exit(-1)\n",
        "nb_classes = np.max(labels)+1\n",
        "print(f\"Apprentissage sur {nb_classes} classes\")\n"
      ]
    },
    {
      "cell_type": "code",
      "execution_count": 12,
      "metadata": {
        "colab": {
          "base_uri": "https://localhost:8080/"
        },
        "id": "PE7YI7uBl6SS",
        "outputId": "335a77db-7f72-4675-ff1e-85af48d23f15"
      },
      "outputs": [
        {
          "output_type": "execute_result",
          "data": {
            "text/plain": [
              "device(type='cpu')"
            ]
          },
          "metadata": {},
          "execution_count": 12
        }
      ],
      "source": [
        "device = torch.device(\"cuda:0\" if torch.cuda.is_available() else \"cpu\")\n",
        "device"
      ]
    },
    {
      "cell_type": "code",
      "execution_count": 13,
      "metadata": {
        "id": "5Bvz_25OlAIU"
      },
      "outputs": [],
      "source": [
        " # Fonction d'évaluation\n",
        "def evaluate(model, dataset):\n",
        "    avg_loss = 0.\n",
        "    avg_accuracy = 0\n",
        "    loader = torch.utils.data.DataLoader(dataset, batch_size=16, shuffle=False, num_workers=2)\n",
        "    for data in loader:\n",
        "        inputs, labels = data\n",
        "        inputs, labels = inputs.to(device), labels.to(device)\n",
        "        outputs = model(inputs)\n",
        "        \n",
        "        loss = criterion(outputs, labels)\n",
        "        _, preds = torch.max(outputs, 1)\n",
        "        n_correct = torch.sum(preds == labels)\n",
        "        \n",
        "        avg_loss += loss.item()\n",
        "        avg_accuracy += n_correct\n",
        "        \n",
        "    return avg_loss / len(dataset), float(avg_accuracy) / len(dataset)\n",
        "\n",
        "# fonction d'entraînement \n",
        "PRINT_LOSS = True\n",
        "\n",
        "def train_model(model, loader_train, data_val, optimizer, criterion, n_epochs=NB_EPOCHS):\n",
        "    accuracies = []\n",
        "    losses = [] \n",
        "    for epoch in range(n_epochs): \n",
        "        print(f\"EPOCH {epoch} / {NB_EPOCHS - 1}\")\n",
        "        running_loss=0  \n",
        "        correct=0\n",
        "        total=0\n",
        "\n",
        "        for i, data in enumerate(loader_train): # itère sur les minibatchs via le loader apprentissage\n",
        "            inputs, labels = data\n",
        "            inputs, labels = inputs.to(device), labels.to(device) # on passe les données sur CPU / GPU\n",
        "            optimizer.zero_grad() # on réinitialise les gradients\n",
        "            outputs = model(inputs) # on calcule l'output\n",
        "            \n",
        "            loss = criterion(outputs, labels) # on calcule la loss\n",
        "            \n",
        "            loss.backward() # on effectue la backprop pour calculer les gradients\n",
        "            optimizer.step() # on update les gradients en fonction des paramètres\n",
        "        if PRINT_LOSS:\n",
        "            model.train(False)\n",
        "            loss_val, accuracy = evaluate(model, data_val)\n",
        "            model.train(True)\n",
        "            print(\"{} loss train: {:1.4f}\\t val {:1.4f}\\tAcc (val): {:.1%}\".format(i, loss.item(), loss_val, accuracy   ))\n",
        "        \n",
        "        accuracies.append(accuracy)\n",
        "        losses.append(loss_val)\n",
        "\n",
        "    return losses, accuracies"
      ]
    },
    {
      "cell_type": "markdown",
      "metadata": {
        "id": "wTAIRnkv2pTQ"
      },
      "source": [
        "### Transfert d'apprentissage\n"
      ]
    },
    {
      "cell_type": "code",
      "execution_count": 14,
      "metadata": {
        "colab": {
          "base_uri": "https://localhost:8080/",
          "height": 497,
          "referenced_widgets": [
            "762bb598726249dbb1d91367d40d482e",
            "73f2d374b27c48fe908cd5aef1889b47",
            "a6bbd544eca44107a4bd4bb0cf5ac595",
            "7e4b170b68de4807a3f9c01a49794ea2",
            "859cb233d6cf42239fd17b5c3d5d7ada",
            "314faa0a315d44cf844b7e89085c6f1a",
            "c3318244bbc8427d8a6964095a5890ee",
            "b693e2f6ffde4fd7ba95714b87d89016",
            "daf292eccd5d4eccaf4e0d0cc973a00c",
            "6dd9f4beb77a42868150f47b0820d2a5",
            "d734211f69c54b94a8e60473593d2575"
          ]
        },
        "id": "bnYlVA7JlAIU",
        "outputId": "dfe811ae-1401-43a6-d8b8-f0cbec9d8a2f"
      },
      "outputs": [
        {
          "output_type": "stream",
          "name": "stdout",
          "text": [
            "Récupération du ResNet-18 pré-entraîné...\n"
          ]
        },
        {
          "output_type": "stream",
          "name": "stderr",
          "text": [
            "Downloading: \"https://download.pytorch.org/models/resnet18-f37072fd.pth\" to /root/.cache/torch/hub/checkpoints/resnet18-f37072fd.pth\n"
          ]
        },
        {
          "output_type": "display_data",
          "data": {
            "text/plain": [
              "  0%|          | 0.00/44.7M [00:00<?, ?B/s]"
            ],
            "application/vnd.jupyter.widget-view+json": {
              "version_major": 2,
              "version_minor": 0,
              "model_id": "762bb598726249dbb1d91367d40d482e"
            }
          },
          "metadata": {}
        },
        {
          "output_type": "stream",
          "name": "stdout",
          "text": [
            "Apprentissage en transfer learning\n",
            "EPOCH 0 / 3\n"
          ]
        },
        {
          "output_type": "error",
          "ename": "KeyboardInterrupt",
          "evalue": "ignored",
          "traceback": [
            "\u001b[0;31m---------------------------------------------------------------------------\u001b[0m",
            "\u001b[0;31mKeyboardInterrupt\u001b[0m                         Traceback (most recent call last)",
            "\u001b[0;32m<ipython-input-14-a5a3b00db511>\u001b[0m in \u001b[0;36m<module>\u001b[0;34m()\u001b[0m\n\u001b[1;32m     21\u001b[0m \u001b[0mmy_net\u001b[0m\u001b[0;34m.\u001b[0m\u001b[0mtrain\u001b[0m\u001b[0;34m(\u001b[0m\u001b[0;32mTrue\u001b[0m\u001b[0;34m)\u001b[0m\u001b[0;34m\u001b[0m\u001b[0;34m\u001b[0m\u001b[0m\n\u001b[1;32m     22\u001b[0m \u001b[0mtorch\u001b[0m\u001b[0;34m.\u001b[0m\u001b[0mmanual_seed\u001b[0m\u001b[0;34m(\u001b[0m\u001b[0;36m42\u001b[0m\u001b[0;34m)\u001b[0m\u001b[0;34m\u001b[0m\u001b[0;34m\u001b[0m\u001b[0m\n\u001b[0;32m---> 23\u001b[0;31m \u001b[0mlosses\u001b[0m\u001b[0;34m,\u001b[0m \u001b[0maccuracies\u001b[0m \u001b[0;34m=\u001b[0m \u001b[0mtrain_model\u001b[0m\u001b[0;34m(\u001b[0m\u001b[0mmy_net\u001b[0m\u001b[0;34m,\u001b[0m \u001b[0mloader_train\u001b[0m\u001b[0;34m,\u001b[0m \u001b[0mdataset_val\u001b[0m\u001b[0;34m,\u001b[0m \u001b[0moptimizer\u001b[0m\u001b[0;34m,\u001b[0m \u001b[0mcriterion\u001b[0m\u001b[0;34m,\u001b[0m \u001b[0mn_epochs\u001b[0m\u001b[0;34m=\u001b[0m\u001b[0mNB_EPOCHS\u001b[0m\u001b[0;34m)\u001b[0m\u001b[0;34m\u001b[0m\u001b[0;34m\u001b[0m\u001b[0m\n\u001b[0m\u001b[1;32m     24\u001b[0m \u001b[0;31m# évaluation\u001b[0m\u001b[0;34m\u001b[0m\u001b[0;34m\u001b[0m\u001b[0;34m\u001b[0m\u001b[0m\n\u001b[1;32m     25\u001b[0m \u001b[0mmy_net\u001b[0m\u001b[0;34m.\u001b[0m\u001b[0mtrain\u001b[0m\u001b[0;34m(\u001b[0m\u001b[0;32mFalse\u001b[0m\u001b[0;34m)\u001b[0m\u001b[0;34m\u001b[0m\u001b[0;34m\u001b[0m\u001b[0m\n",
            "\u001b[0;32m<ipython-input-13-722a6e519a71>\u001b[0m in \u001b[0;36mtrain_model\u001b[0;34m(model, loader_train, data_val, optimizer, criterion, n_epochs)\u001b[0m\n\u001b[1;32m     30\u001b[0m        \u001b[0mtotal\u001b[0m\u001b[0;34m=\u001b[0m\u001b[0;36m0\u001b[0m\u001b[0;34m\u001b[0m\u001b[0;34m\u001b[0m\u001b[0m\n\u001b[1;32m     31\u001b[0m \u001b[0;34m\u001b[0m\u001b[0m\n\u001b[0;32m---> 32\u001b[0;31m        \u001b[0;32mfor\u001b[0m \u001b[0mi\u001b[0m\u001b[0;34m,\u001b[0m \u001b[0mdata\u001b[0m \u001b[0;32min\u001b[0m \u001b[0menumerate\u001b[0m\u001b[0;34m(\u001b[0m\u001b[0mloader_train\u001b[0m\u001b[0;34m)\u001b[0m\u001b[0;34m:\u001b[0m \u001b[0;31m# itère sur les minibatchs via le loader apprentissage\u001b[0m\u001b[0;34m\u001b[0m\u001b[0;34m\u001b[0m\u001b[0m\n\u001b[0m\u001b[1;32m     33\u001b[0m            \u001b[0minputs\u001b[0m\u001b[0;34m,\u001b[0m \u001b[0mlabels\u001b[0m \u001b[0;34m=\u001b[0m \u001b[0mdata\u001b[0m\u001b[0;34m\u001b[0m\u001b[0;34m\u001b[0m\u001b[0m\n\u001b[1;32m     34\u001b[0m            \u001b[0minputs\u001b[0m\u001b[0;34m,\u001b[0m \u001b[0mlabels\u001b[0m \u001b[0;34m=\u001b[0m \u001b[0minputs\u001b[0m\u001b[0;34m.\u001b[0m\u001b[0mto\u001b[0m\u001b[0;34m(\u001b[0m\u001b[0mdevice\u001b[0m\u001b[0;34m)\u001b[0m\u001b[0;34m,\u001b[0m \u001b[0mlabels\u001b[0m\u001b[0;34m.\u001b[0m\u001b[0mto\u001b[0m\u001b[0;34m(\u001b[0m\u001b[0mdevice\u001b[0m\u001b[0;34m)\u001b[0m \u001b[0;31m# on passe les données sur CPU / GPU\u001b[0m\u001b[0;34m\u001b[0m\u001b[0;34m\u001b[0m\u001b[0m\n",
            "\u001b[0;32m/usr/local/lib/python3.7/dist-packages/torch/utils/data/dataloader.py\u001b[0m in \u001b[0;36m__next__\u001b[0;34m(self)\u001b[0m\n\u001b[1;32m    519\u001b[0m             \u001b[0;32mif\u001b[0m \u001b[0mself\u001b[0m\u001b[0;34m.\u001b[0m\u001b[0m_sampler_iter\u001b[0m \u001b[0;32mis\u001b[0m \u001b[0;32mNone\u001b[0m\u001b[0;34m:\u001b[0m\u001b[0;34m\u001b[0m\u001b[0;34m\u001b[0m\u001b[0m\n\u001b[1;32m    520\u001b[0m                 \u001b[0mself\u001b[0m\u001b[0;34m.\u001b[0m\u001b[0m_reset\u001b[0m\u001b[0;34m(\u001b[0m\u001b[0;34m)\u001b[0m\u001b[0;34m\u001b[0m\u001b[0;34m\u001b[0m\u001b[0m\n\u001b[0;32m--> 521\u001b[0;31m             \u001b[0mdata\u001b[0m \u001b[0;34m=\u001b[0m \u001b[0mself\u001b[0m\u001b[0;34m.\u001b[0m\u001b[0m_next_data\u001b[0m\u001b[0;34m(\u001b[0m\u001b[0;34m)\u001b[0m\u001b[0;34m\u001b[0m\u001b[0;34m\u001b[0m\u001b[0m\n\u001b[0m\u001b[1;32m    522\u001b[0m             \u001b[0mself\u001b[0m\u001b[0;34m.\u001b[0m\u001b[0m_num_yielded\u001b[0m \u001b[0;34m+=\u001b[0m \u001b[0;36m1\u001b[0m\u001b[0;34m\u001b[0m\u001b[0;34m\u001b[0m\u001b[0m\n\u001b[1;32m    523\u001b[0m             \u001b[0;32mif\u001b[0m \u001b[0mself\u001b[0m\u001b[0;34m.\u001b[0m\u001b[0m_dataset_kind\u001b[0m \u001b[0;34m==\u001b[0m \u001b[0m_DatasetKind\u001b[0m\u001b[0;34m.\u001b[0m\u001b[0mIterable\u001b[0m \u001b[0;32mand\u001b[0m\u001b[0;31m \u001b[0m\u001b[0;31m\\\u001b[0m\u001b[0;34m\u001b[0m\u001b[0;34m\u001b[0m\u001b[0m\n",
            "\u001b[0;32m/usr/local/lib/python3.7/dist-packages/torch/utils/data/dataloader.py\u001b[0m in \u001b[0;36m_next_data\u001b[0;34m(self)\u001b[0m\n\u001b[1;32m   1184\u001b[0m \u001b[0;34m\u001b[0m\u001b[0m\n\u001b[1;32m   1185\u001b[0m             \u001b[0;32massert\u001b[0m \u001b[0;32mnot\u001b[0m \u001b[0mself\u001b[0m\u001b[0;34m.\u001b[0m\u001b[0m_shutdown\u001b[0m \u001b[0;32mand\u001b[0m \u001b[0mself\u001b[0m\u001b[0;34m.\u001b[0m\u001b[0m_tasks_outstanding\u001b[0m \u001b[0;34m>\u001b[0m \u001b[0;36m0\u001b[0m\u001b[0;34m\u001b[0m\u001b[0;34m\u001b[0m\u001b[0m\n\u001b[0;32m-> 1186\u001b[0;31m             \u001b[0midx\u001b[0m\u001b[0;34m,\u001b[0m \u001b[0mdata\u001b[0m \u001b[0;34m=\u001b[0m \u001b[0mself\u001b[0m\u001b[0;34m.\u001b[0m\u001b[0m_get_data\u001b[0m\u001b[0;34m(\u001b[0m\u001b[0;34m)\u001b[0m\u001b[0;34m\u001b[0m\u001b[0;34m\u001b[0m\u001b[0m\n\u001b[0m\u001b[1;32m   1187\u001b[0m             \u001b[0mself\u001b[0m\u001b[0;34m.\u001b[0m\u001b[0m_tasks_outstanding\u001b[0m \u001b[0;34m-=\u001b[0m \u001b[0;36m1\u001b[0m\u001b[0;34m\u001b[0m\u001b[0;34m\u001b[0m\u001b[0m\n\u001b[1;32m   1188\u001b[0m             \u001b[0;32mif\u001b[0m \u001b[0mself\u001b[0m\u001b[0;34m.\u001b[0m\u001b[0m_dataset_kind\u001b[0m \u001b[0;34m==\u001b[0m \u001b[0m_DatasetKind\u001b[0m\u001b[0;34m.\u001b[0m\u001b[0mIterable\u001b[0m\u001b[0;34m:\u001b[0m\u001b[0;34m\u001b[0m\u001b[0;34m\u001b[0m\u001b[0m\n",
            "\u001b[0;32m/usr/local/lib/python3.7/dist-packages/torch/utils/data/dataloader.py\u001b[0m in \u001b[0;36m_get_data\u001b[0;34m(self)\u001b[0m\n\u001b[1;32m   1150\u001b[0m         \u001b[0;32melse\u001b[0m\u001b[0;34m:\u001b[0m\u001b[0;34m\u001b[0m\u001b[0;34m\u001b[0m\u001b[0m\n\u001b[1;32m   1151\u001b[0m             \u001b[0;32mwhile\u001b[0m \u001b[0;32mTrue\u001b[0m\u001b[0;34m:\u001b[0m\u001b[0;34m\u001b[0m\u001b[0;34m\u001b[0m\u001b[0m\n\u001b[0;32m-> 1152\u001b[0;31m                 \u001b[0msuccess\u001b[0m\u001b[0;34m,\u001b[0m \u001b[0mdata\u001b[0m \u001b[0;34m=\u001b[0m \u001b[0mself\u001b[0m\u001b[0;34m.\u001b[0m\u001b[0m_try_get_data\u001b[0m\u001b[0;34m(\u001b[0m\u001b[0;34m)\u001b[0m\u001b[0;34m\u001b[0m\u001b[0;34m\u001b[0m\u001b[0m\n\u001b[0m\u001b[1;32m   1153\u001b[0m                 \u001b[0;32mif\u001b[0m \u001b[0msuccess\u001b[0m\u001b[0;34m:\u001b[0m\u001b[0;34m\u001b[0m\u001b[0;34m\u001b[0m\u001b[0m\n\u001b[1;32m   1154\u001b[0m                     \u001b[0;32mreturn\u001b[0m \u001b[0mdata\u001b[0m\u001b[0;34m\u001b[0m\u001b[0;34m\u001b[0m\u001b[0m\n",
            "\u001b[0;32m/usr/local/lib/python3.7/dist-packages/torch/utils/data/dataloader.py\u001b[0m in \u001b[0;36m_try_get_data\u001b[0;34m(self, timeout)\u001b[0m\n\u001b[1;32m    988\u001b[0m         \u001b[0;31m#   (bool: whether successfully get data, any: data if successful else None)\u001b[0m\u001b[0;34m\u001b[0m\u001b[0;34m\u001b[0m\u001b[0;34m\u001b[0m\u001b[0m\n\u001b[1;32m    989\u001b[0m         \u001b[0;32mtry\u001b[0m\u001b[0;34m:\u001b[0m\u001b[0;34m\u001b[0m\u001b[0;34m\u001b[0m\u001b[0m\n\u001b[0;32m--> 990\u001b[0;31m             \u001b[0mdata\u001b[0m \u001b[0;34m=\u001b[0m \u001b[0mself\u001b[0m\u001b[0;34m.\u001b[0m\u001b[0m_data_queue\u001b[0m\u001b[0;34m.\u001b[0m\u001b[0mget\u001b[0m\u001b[0;34m(\u001b[0m\u001b[0mtimeout\u001b[0m\u001b[0;34m=\u001b[0m\u001b[0mtimeout\u001b[0m\u001b[0;34m)\u001b[0m\u001b[0;34m\u001b[0m\u001b[0;34m\u001b[0m\u001b[0m\n\u001b[0m\u001b[1;32m    991\u001b[0m             \u001b[0;32mreturn\u001b[0m \u001b[0;34m(\u001b[0m\u001b[0;32mTrue\u001b[0m\u001b[0;34m,\u001b[0m \u001b[0mdata\u001b[0m\u001b[0;34m)\u001b[0m\u001b[0;34m\u001b[0m\u001b[0;34m\u001b[0m\u001b[0m\n\u001b[1;32m    992\u001b[0m         \u001b[0;32mexcept\u001b[0m \u001b[0mException\u001b[0m \u001b[0;32mas\u001b[0m \u001b[0me\u001b[0m\u001b[0;34m:\u001b[0m\u001b[0;34m\u001b[0m\u001b[0;34m\u001b[0m\u001b[0m\n",
            "\u001b[0;32m/usr/lib/python3.7/multiprocessing/queues.py\u001b[0m in \u001b[0;36mget\u001b[0;34m(self, block, timeout)\u001b[0m\n\u001b[1;32m    102\u001b[0m                 \u001b[0;32mif\u001b[0m \u001b[0mblock\u001b[0m\u001b[0;34m:\u001b[0m\u001b[0;34m\u001b[0m\u001b[0;34m\u001b[0m\u001b[0m\n\u001b[1;32m    103\u001b[0m                     \u001b[0mtimeout\u001b[0m \u001b[0;34m=\u001b[0m \u001b[0mdeadline\u001b[0m \u001b[0;34m-\u001b[0m \u001b[0mtime\u001b[0m\u001b[0;34m.\u001b[0m\u001b[0mmonotonic\u001b[0m\u001b[0;34m(\u001b[0m\u001b[0;34m)\u001b[0m\u001b[0;34m\u001b[0m\u001b[0;34m\u001b[0m\u001b[0m\n\u001b[0;32m--> 104\u001b[0;31m                     \u001b[0;32mif\u001b[0m \u001b[0;32mnot\u001b[0m \u001b[0mself\u001b[0m\u001b[0;34m.\u001b[0m\u001b[0m_poll\u001b[0m\u001b[0;34m(\u001b[0m\u001b[0mtimeout\u001b[0m\u001b[0;34m)\u001b[0m\u001b[0;34m:\u001b[0m\u001b[0;34m\u001b[0m\u001b[0;34m\u001b[0m\u001b[0m\n\u001b[0m\u001b[1;32m    105\u001b[0m                         \u001b[0;32mraise\u001b[0m \u001b[0mEmpty\u001b[0m\u001b[0;34m\u001b[0m\u001b[0;34m\u001b[0m\u001b[0m\n\u001b[1;32m    106\u001b[0m                 \u001b[0;32melif\u001b[0m \u001b[0;32mnot\u001b[0m \u001b[0mself\u001b[0m\u001b[0;34m.\u001b[0m\u001b[0m_poll\u001b[0m\u001b[0;34m(\u001b[0m\u001b[0;34m)\u001b[0m\u001b[0;34m:\u001b[0m\u001b[0;34m\u001b[0m\u001b[0;34m\u001b[0m\u001b[0m\n",
            "\u001b[0;32m/usr/lib/python3.7/multiprocessing/connection.py\u001b[0m in \u001b[0;36mpoll\u001b[0;34m(self, timeout)\u001b[0m\n\u001b[1;32m    255\u001b[0m         \u001b[0mself\u001b[0m\u001b[0;34m.\u001b[0m\u001b[0m_check_closed\u001b[0m\u001b[0;34m(\u001b[0m\u001b[0;34m)\u001b[0m\u001b[0;34m\u001b[0m\u001b[0;34m\u001b[0m\u001b[0m\n\u001b[1;32m    256\u001b[0m         \u001b[0mself\u001b[0m\u001b[0;34m.\u001b[0m\u001b[0m_check_readable\u001b[0m\u001b[0;34m(\u001b[0m\u001b[0;34m)\u001b[0m\u001b[0;34m\u001b[0m\u001b[0;34m\u001b[0m\u001b[0m\n\u001b[0;32m--> 257\u001b[0;31m         \u001b[0;32mreturn\u001b[0m \u001b[0mself\u001b[0m\u001b[0;34m.\u001b[0m\u001b[0m_poll\u001b[0m\u001b[0;34m(\u001b[0m\u001b[0mtimeout\u001b[0m\u001b[0;34m)\u001b[0m\u001b[0;34m\u001b[0m\u001b[0;34m\u001b[0m\u001b[0m\n\u001b[0m\u001b[1;32m    258\u001b[0m \u001b[0;34m\u001b[0m\u001b[0m\n\u001b[1;32m    259\u001b[0m     \u001b[0;32mdef\u001b[0m \u001b[0m__enter__\u001b[0m\u001b[0;34m(\u001b[0m\u001b[0mself\u001b[0m\u001b[0;34m)\u001b[0m\u001b[0;34m:\u001b[0m\u001b[0;34m\u001b[0m\u001b[0;34m\u001b[0m\u001b[0m\n",
            "\u001b[0;32m/usr/lib/python3.7/multiprocessing/connection.py\u001b[0m in \u001b[0;36m_poll\u001b[0;34m(self, timeout)\u001b[0m\n\u001b[1;32m    412\u001b[0m \u001b[0;34m\u001b[0m\u001b[0m\n\u001b[1;32m    413\u001b[0m     \u001b[0;32mdef\u001b[0m \u001b[0m_poll\u001b[0m\u001b[0;34m(\u001b[0m\u001b[0mself\u001b[0m\u001b[0;34m,\u001b[0m \u001b[0mtimeout\u001b[0m\u001b[0;34m)\u001b[0m\u001b[0;34m:\u001b[0m\u001b[0;34m\u001b[0m\u001b[0;34m\u001b[0m\u001b[0m\n\u001b[0;32m--> 414\u001b[0;31m         \u001b[0mr\u001b[0m \u001b[0;34m=\u001b[0m \u001b[0mwait\u001b[0m\u001b[0;34m(\u001b[0m\u001b[0;34m[\u001b[0m\u001b[0mself\u001b[0m\u001b[0;34m]\u001b[0m\u001b[0;34m,\u001b[0m \u001b[0mtimeout\u001b[0m\u001b[0;34m)\u001b[0m\u001b[0;34m\u001b[0m\u001b[0;34m\u001b[0m\u001b[0m\n\u001b[0m\u001b[1;32m    415\u001b[0m         \u001b[0;32mreturn\u001b[0m \u001b[0mbool\u001b[0m\u001b[0;34m(\u001b[0m\u001b[0mr\u001b[0m\u001b[0;34m)\u001b[0m\u001b[0;34m\u001b[0m\u001b[0;34m\u001b[0m\u001b[0m\n\u001b[1;32m    416\u001b[0m \u001b[0;34m\u001b[0m\u001b[0m\n",
            "\u001b[0;32m/usr/lib/python3.7/multiprocessing/connection.py\u001b[0m in \u001b[0;36mwait\u001b[0;34m(object_list, timeout)\u001b[0m\n\u001b[1;32m    919\u001b[0m \u001b[0;34m\u001b[0m\u001b[0m\n\u001b[1;32m    920\u001b[0m             \u001b[0;32mwhile\u001b[0m \u001b[0;32mTrue\u001b[0m\u001b[0;34m:\u001b[0m\u001b[0;34m\u001b[0m\u001b[0;34m\u001b[0m\u001b[0m\n\u001b[0;32m--> 921\u001b[0;31m                 \u001b[0mready\u001b[0m \u001b[0;34m=\u001b[0m \u001b[0mselector\u001b[0m\u001b[0;34m.\u001b[0m\u001b[0mselect\u001b[0m\u001b[0;34m(\u001b[0m\u001b[0mtimeout\u001b[0m\u001b[0;34m)\u001b[0m\u001b[0;34m\u001b[0m\u001b[0;34m\u001b[0m\u001b[0m\n\u001b[0m\u001b[1;32m    922\u001b[0m                 \u001b[0;32mif\u001b[0m \u001b[0mready\u001b[0m\u001b[0;34m:\u001b[0m\u001b[0;34m\u001b[0m\u001b[0;34m\u001b[0m\u001b[0m\n\u001b[1;32m    923\u001b[0m                     \u001b[0;32mreturn\u001b[0m \u001b[0;34m[\u001b[0m\u001b[0mkey\u001b[0m\u001b[0;34m.\u001b[0m\u001b[0mfileobj\u001b[0m \u001b[0;32mfor\u001b[0m \u001b[0;34m(\u001b[0m\u001b[0mkey\u001b[0m\u001b[0;34m,\u001b[0m \u001b[0mevents\u001b[0m\u001b[0;34m)\u001b[0m \u001b[0;32min\u001b[0m \u001b[0mready\u001b[0m\u001b[0;34m]\u001b[0m\u001b[0;34m\u001b[0m\u001b[0;34m\u001b[0m\u001b[0m\n",
            "\u001b[0;32m/usr/lib/python3.7/selectors.py\u001b[0m in \u001b[0;36mselect\u001b[0;34m(self, timeout)\u001b[0m\n\u001b[1;32m    413\u001b[0m         \u001b[0mready\u001b[0m \u001b[0;34m=\u001b[0m \u001b[0;34m[\u001b[0m\u001b[0;34m]\u001b[0m\u001b[0;34m\u001b[0m\u001b[0;34m\u001b[0m\u001b[0m\n\u001b[1;32m    414\u001b[0m         \u001b[0;32mtry\u001b[0m\u001b[0;34m:\u001b[0m\u001b[0;34m\u001b[0m\u001b[0;34m\u001b[0m\u001b[0m\n\u001b[0;32m--> 415\u001b[0;31m             \u001b[0mfd_event_list\u001b[0m \u001b[0;34m=\u001b[0m \u001b[0mself\u001b[0m\u001b[0;34m.\u001b[0m\u001b[0m_selector\u001b[0m\u001b[0;34m.\u001b[0m\u001b[0mpoll\u001b[0m\u001b[0;34m(\u001b[0m\u001b[0mtimeout\u001b[0m\u001b[0;34m)\u001b[0m\u001b[0;34m\u001b[0m\u001b[0;34m\u001b[0m\u001b[0m\n\u001b[0m\u001b[1;32m    416\u001b[0m         \u001b[0;32mexcept\u001b[0m \u001b[0mInterruptedError\u001b[0m\u001b[0;34m:\u001b[0m\u001b[0;34m\u001b[0m\u001b[0;34m\u001b[0m\u001b[0m\n\u001b[1;32m    417\u001b[0m             \u001b[0;32mreturn\u001b[0m \u001b[0mready\u001b[0m\u001b[0;34m\u001b[0m\u001b[0;34m\u001b[0m\u001b[0m\n",
            "\u001b[0;31mKeyboardInterrupt\u001b[0m: "
          ]
        }
      ],
      "source": [
        "# Récupérer un réseau pré-entraîné \n",
        "print(\"Récupération du modèle pré-entraîné...\")\n",
        "#my_net =  models.resnext50_32x4d(pretrained=True)\n",
        "#my_net = models.mobilenet_v3_small(pretrained=True) #pour mobilenet\n",
        "my_net =  models.resnet18(pretrained=True)\n",
        "\n",
        "\n",
        "# on indique qu'il est inutile de calculer les gradients des paramètres du réseau\n",
        "for param in my_net.parameters():\n",
        "    param.requires_grad = False\n",
        "\n",
        "my_net.fc = nn.Linear(in_features=my_net.fc.in_features, out_features=nb_classes, bias=True)\n",
        "\n",
        "my_net.to(device) \n",
        "my_net.train(True) \n",
        "\n",
        "criterion = nn.CrossEntropyLoss()\n",
        "optimizer = optim.SGD(my_net.fc.parameters(), lr=LEARNING_RATE, momentum=0.9)\n",
        "\n",
        "print(\"Apprentissage en transfer learning\")\n",
        "my_net.train(True)\n",
        "torch.manual_seed(42)\n",
        "losses, accuracies = train_model(my_net, loader_train, dataset_val, optimizer, criterion, n_epochs=NB_EPOCHS)\n",
        "# évaluation\n",
        "my_net.train(False)\n",
        "loss, accuracy = evaluate(my_net, dataset_test)\n",
        "print(\"Accuracy (test): %.1f%%\" % (100 * accuracy))\n"
      ]
    },
    {
      "cell_type": "markdown",
      "source": [
        "### Tracé de la loss et de l'accuracy"
      ],
      "metadata": {
        "id": "XspDu3NqleFx"
      }
    },
    {
      "cell_type": "code",
      "execution_count": 2,
      "metadata": {
        "id": "jYLZJfi8HMi6"
      },
      "outputs": [],
      "source": [
        "#plot accuracy and loss\n",
        "#x = range(NB_EPOCHS)\n",
        "#plt.figure(figsize=(10,8))\n",
        "#ax1 = plt.subplot(121)\n",
        "#plt.plot(x, accuracies, title='Accuracy on validation set', xlabel='Epoch')\n",
        "#ax1.set_title(\"Loss\")\n",
        "#ax1.set_xlabel(\"Epoch\")\n",
        "#plt.plot(x, losses)\n",
        "#ax2 = plt.subplot(122)\n",
        "#ax2.set_title(\"Accuracy on validation set\")\n",
        "#ax2.set_xlabel(\"Epoch\")\n",
        "#plt.plot(x, accuracies)\n",
        "#plt.show()"
      ]
    },
    {
      "cell_type": "markdown",
      "source": [
        "### Tests des prédictions du modèle sur des images prises à la main"
      ],
      "metadata": {
        "id": "BbIb7ppDavHh"
      }
    },
    {
      "cell_type": "code",
      "source": [
        "from PIL import Image\n",
        "label_names = os.listdir(f'scraping/data/folders') # classes\n",
        "leffe = Image.open(\"../../../../leffe.jpg\").convert('RGB')\n",
        "brewdog = Image.open(\"../../../../brewdog.jpg\").convert('RGB')\n",
        "pietra = Image.open(\"../../../../pietra.jpg\").convert('RGB')\n",
        "# Create a preprocessing pipeline\n",
        "#\n",
        "preprocess = transforms.Compose([transforms.Resize(size),\n",
        "        transforms.ToTensor(),\n",
        "        transforms.Normalize(mean=mean, std=std)\n",
        "    ])\n",
        "#\n",
        "# Pass the image for preprocessing and the image preprocessed\n",
        "#\n",
        "leffe_preprocessed = preprocess(leffe)\n",
        "brewdog_preprocessed = preprocess(brewdog)\n",
        "pietra_preprocessed = preprocess(pietra)\n",
        "\n",
        "#\n",
        "# Reshape, crop, and normalize the input tensor for feeding into network for evaluation\n",
        "#\n",
        "batch_img_leffe_tensor = torch.unsqueeze(leffe_preprocessed, 0).to(device)\n",
        "batch_img_brewdog_tensor = torch.unsqueeze(brewdog_preprocessed, 0).to(device)\n",
        "batch_img_pietra_tensor = torch.unsqueeze(pietra_preprocessed, 0).to(device)\n",
        "\n",
        "# Resnet is required to be put in evaluation mode in order\n",
        "# to do prediction / evaluation\n",
        "#\n",
        "my_net.eval()\n",
        "#\n",
        "# Get the predictions of image as scores related to how the loaded image\n",
        "# matches with 1000 ImageNet classes. The variable, out is a vector of 1000 scores\n",
        "#\n",
        "out_leffe = my_net(batch_img_leffe_tensor)\n",
        "out_brewdog = my_net(batch_img_brewdog_tensor)\n",
        "out_pietra = my_net(batch_img_pietra_tensor)\n",
        "\n",
        "# Find the index (tensor) corresponding to the maximum score in the out tensor.\n",
        "# Torch.max function can be used to find the information\n",
        "#\n",
        "_, index_leffe = torch.max(out_leffe, 1)\n",
        "_, index_brewdog = torch.max(out_brewdog, 1)\n",
        "_, index_pietra = torch.max(out_pietra, 1)\n",
        "\n",
        "#\n",
        "# Find the score in terms of percentage by using torch.nn.functional.softmax function\n",
        "# which normalizes the output to range [0,1] and multiplying by 100\n",
        "#\n",
        "percentage_leffe = torch.nn.functional.softmax(out_leffe, dim=1)[0] * 100\n",
        "percentage_brewdog = torch.nn.functional.softmax(out_brewdog, dim=1)[0] * 100\n",
        "percentage_pietra = torch.nn.functional.softmax(out_pietra, dim=1)[0] * 100\n",
        "\n",
        "#\n",
        "# Print the name along with score of the object identified by the model\n",
        "#\n",
        "\n",
        "print(label_names[index_leffe[0]], percentage_leffe[index_leffe[0]].item())\n",
        "print(label_names[index_brewdog[0]], percentage_brewdog[index_brewdog[0]].item())\n",
        "print(label_names[index_pietra[0]], percentage_pietra[index_pietra[0]].item())\n",
        "\n",
        "brewdog\n",
        "\n",
        "#\n",
        "# Print the top 5 scores along with the image label. Sort function is invoked on the torch to sort the scores.\n",
        "#\n",
        "#_, indices = torch.sort(out_chimay, descending=True)\n",
        "#[(labels[idx], percentage_chimay[idx].item()) for idx in indices[0][:5]]"
      ],
      "metadata": {
        "colab": {
          "base_uri": "https://localhost:8080/",
          "height": 348
        },
        "id": "oqffXVn9ayO2",
        "outputId": "82211494-be7d-4360-9c78-3c71c64db2d7"
      },
      "execution_count": 44,
      "outputs": [
        {
          "output_type": "stream",
          "name": "stdout",
          "text": [
            "LEFFE 92.47091674804688\n",
            "BREWDOG 81.20479583740234\n",
            "PIETRA 55.97895812988281\n"
          ]
        },
        {
          "output_type": "execute_result",
          "data": {
            "text/plain": [
              "<PIL.Image.Image image mode=RGB size=221x277 at 0x7F491700FD10>"
            ],
            "image/png": "[encoded data removed]"
          },
          "metadata": {},
          "execution_count": 44
        }
      ]
    },
    {
      "cell_type": "markdown",
      "source": [
        "### La même chose sous forme de fonction"
      ],
      "metadata": {
        "id": "JE0t_XNzlswP"
      }
    },
    {
      "cell_type": "code",
      "source": [
        "from PIL import Image\n",
        "def test_image(image):\n",
        "  label_names = os.listdir(f'scraping/data/folders') # classes\n",
        "  image = Image.open(f\"../../../../{image}.jpg\").convert('RGB')\n",
        "  preprocess = transforms.Compose([transforms.Resize(size),\n",
        "          transforms.ToTensor(),\n",
        "          transforms.Normalize(mean=mean, std=std)\n",
        "      ])\n",
        "  \n",
        "  preprocessed = preprocess(image)\n",
        "  \n",
        "  batch_img_tensor = torch.unsqueeze(preprocessed, 0).to(device)\n",
        "  \n",
        "  my_net.eval()\n",
        "  out = my_net(batch_img_tensor)\n",
        "\n",
        "  _, index = torch.max(out, 1)\n",
        "  percentage = torch.nn.functional.softmax(out, dim=1)[0] * 100\n",
        "\n",
        "  print(label_names[index[0]], percentage[index[0]].item())\n",
        "\n",
        "  image"
      ],
      "metadata": {
        "id": "MiC1vP8jzBb6"
      },
      "execution_count": 45,
      "outputs": []
    },
    {
      "cell_type": "code",
      "source": [
        "test_image('brewdog')"
      ],
      "metadata": {
        "colab": {
          "base_uri": "https://localhost:8080/"
        },
        "id": "u8SFWsm-2CKx",
        "outputId": "70e9783f-4a2b-4feb-c410-a0b01eee3fab"
      },
      "execution_count": 49,
      "outputs": [
        {
          "output_type": "stream",
          "name": "stdout",
          "text": [
            "BREWDOG 81.20479583740234\n"
          ]
        }
      ]
    },
    {
      "cell_type": "markdown",
      "source": [
        "# Evaluation des résultats sur l'ensemble de test"
      ],
      "metadata": {
        "id": "MPEHcdrdlz4K"
      }
    },
    {
      "cell_type": "code",
      "execution_count": 31,
      "metadata": {
        "colab": {
          "base_uri": "https://localhost:8080/"
        },
        "id": "1XvUYXHKnv7j",
        "outputId": "a1eae788-050a-4b46-a99e-7c8790456bff"
      },
      "outputs": [
        {
          "output_type": "stream",
          "name": "stdout",
          "text": [
            "Accuracy (test): 82.0%\n"
          ]
        }
      ],
      "source": [
        "my_net.train(False)\n",
        "loss, accuracy = evaluate(my_net, dataset_test)\n",
        "print(\"Accuracy (test): %.1f%%\" % (100 * accuracy))\n"
      ]
    }
  ],
  "metadata": {
    "accelerator": "GPU",
    "colab": {
      "collapsed_sections": [],
      "name": "model.ipynb",
      "provenance": []
    },
    "interpreter": {
      "hash": "2be5faf79681da6f2a61fdfdd5405d65d042280f7fba6178067603e3a2925119"
    },
    "kernelspec": {
      "display_name": "Python 3.10.0 64-bit",
      "language": "python",
      "name": "python3"
    },
    "language_info": {
      "codemirror_mode": {
        "name": "ipython",
        "version": 3
      },
      "file_extension": ".py",
      "mimetype": "text/x-python",
      "name": "python",
      "nbconvert_exporter": "python",
      "pygments_lexer": "ipython3",
      "version": "3.8.12"
    },
    "widgets": {
      "application/vnd.jupyter.widget-state+json": {
        "762bb598726249dbb1d91367d40d482e": {
          "model_module": "@jupyter-widgets/controls",
          "model_name": "HBoxModel",
          "model_module_version": "1.5.0",
          "state": {
            "_dom_classes": [],
            "_model_module": "@jupyter-widgets/controls",
            "_model_module_version": "1.5.0",
            "_model_name": "HBoxModel",
            "_view_count": null,
            "_view_module": "@jupyter-widgets/controls",
            "_view_module_version": "1.5.0",
            "_view_name": "HBoxView",
            "box_style": "",
            "children": [
              "IPY_MODEL_73f2d374b27c48fe908cd5aef1889b47",
              "IPY_MODEL_a6bbd544eca44107a4bd4bb0cf5ac595",
              "IPY_MODEL_7e4b170b68de4807a3f9c01a49794ea2"
            ],
            "layout": "IPY_MODEL_859cb233d6cf42239fd17b5c3d5d7ada"
          }
        },
        "73f2d374b27c48fe908cd5aef1889b47": {
          "model_module": "@jupyter-widgets/controls",
          "model_name": "HTMLModel",
          "model_module_version": "1.5.0",
          "state": {
            "_dom_classes": [],
            "_model_module": "@jupyter-widgets/controls",
            "_model_module_version": "1.5.0",
            "_model_name": "HTMLModel",
            "_view_count": null,
            "_view_module": "@jupyter-widgets/controls",
            "_view_module_version": "1.5.0",
            "_view_name": "HTMLView",
            "description": "",
            "description_tooltip": null,
            "layout": "IPY_MODEL_314faa0a315d44cf844b7e89085c6f1a",
            "placeholder": "​",
            "style": "IPY_MODEL_c3318244bbc8427d8a6964095a5890ee",
            "value": "100%"
          }
        },
        "a6bbd544eca44107a4bd4bb0cf5ac595": {
          "model_module": "@jupyter-widgets/controls",
          "model_name": "FloatProgressModel",
          "model_module_version": "1.5.0",
          "state": {
            "_dom_classes": [],
            "_model_module": "@jupyter-widgets/controls",
            "_model_module_version": "1.5.0",
            "_model_name": "FloatProgressModel",
            "_view_count": null,
            "_view_module": "@jupyter-widgets/controls",
            "_view_module_version": "1.5.0",
            "_view_name": "ProgressView",
            "bar_style": "success",
            "description": "",
            "description_tooltip": null,
            "layout": "IPY_MODEL_b693e2f6ffde4fd7ba95714b87d89016",
            "max": 46830571,
            "min": 0,
            "orientation": "horizontal",
            "style": "IPY_MODEL_daf292eccd5d4eccaf4e0d0cc973a00c",
            "value": 46830571
          }
        },
        "7e4b170b68de4807a3f9c01a49794ea2": {
          "model_module": "@jupyter-widgets/controls",
          "model_name": "HTMLModel",
          "model_module_version": "1.5.0",
          "state": {
            "_dom_classes": [],
            "_model_module": "@jupyter-widgets/controls",
            "_model_module_version": "1.5.0",
            "_model_name": "HTMLModel",
            "_view_count": null,
            "_view_module": "@jupyter-widgets/controls",
            "_view_module_version": "1.5.0",
            "_view_name": "HTMLView",
            "description": "",
            "description_tooltip": null,
            "layout": "IPY_MODEL_6dd9f4beb77a42868150f47b0820d2a5",
            "placeholder": "​",
            "style": "IPY_MODEL_d734211f69c54b94a8e60473593d2575",
            "value": " 44.7M/44.7M [00:00&lt;00:00, 49.6MB/s]"
          }
        },
        "859cb233d6cf42239fd17b5c3d5d7ada": {
          "model_module": "@jupyter-widgets/base",
          "model_name": "LayoutModel",
          "model_module_version": "1.2.0",
          "state": {
            "_model_module": "@jupyter-widgets/base",
            "_model_module_version": "1.2.0",
            "_model_name": "LayoutModel",
            "_view_count": null,
            "_view_module": "@jupyter-widgets/base",
            "_view_module_version": "1.2.0",
            "_view_name": "LayoutView",
            "align_content": null,
            "align_items": null,
            "align_self": null,
            "border": null,
            "bottom": null,
            "display": null,
            "flex": null,
            "flex_flow": null,
            "grid_area": null,
            "grid_auto_columns": null,
            "grid_auto_flow": null,
            "grid_auto_rows": null,
            "grid_column": null,
            "grid_gap": null,
            "grid_row": null,
            "grid_template_areas": null,
            "grid_template_columns": null,
            "grid_template_rows": null,
            "height": null,
            "justify_content": null,
            "justify_items": null,
            "left": null,
            "margin": null,
            "max_height": null,
            "max_width": null,
            "min_height": null,
            "min_width": null,
            "object_fit": null,
            "object_position": null,
            "order": null,
            "overflow": null,
            "overflow_x": null,
            "overflow_y": null,
            "padding": null,
            "right": null,
            "top": null,
            "visibility": null,
            "width": null
          }
        },
        "314faa0a315d44cf844b7e89085c6f1a": {
          "model_module": "@jupyter-widgets/base",
          "model_name": "LayoutModel",
          "model_module_version": "1.2.0",
          "state": {
            "_model_module": "@jupyter-widgets/base",
            "_model_module_version": "1.2.0",
            "_model_name": "LayoutModel",
            "_view_count": null,
            "_view_module": "@jupyter-widgets/base",
            "_view_module_version": "1.2.0",
            "_view_name": "LayoutView",
            "align_content": null,
            "align_items": null,
            "align_self": null,
            "border": null,
            "bottom": null,
            "display": null,
            "flex": null,
            "flex_flow": null,
            "grid_area": null,
            "grid_auto_columns": null,
            "grid_auto_flow": null,
            "grid_auto_rows": null,
            "grid_column": null,
            "grid_gap": null,
            "grid_row": null,
            "grid_template_areas": null,
            "grid_template_columns": null,
            "grid_template_rows": null,
            "height": null,
            "justify_content": null,
            "justify_items": null,
            "left": null,
            "margin": null,
            "max_height": null,
            "max_width": null,
            "min_height": null,
            "min_width": null,
            "object_fit": null,
            "object_position": null,
            "order": null,
            "overflow": null,
            "overflow_x": null,
            "overflow_y": null,
            "padding": null,
            "right": null,
            "top": null,
            "visibility": null,
            "width": null
          }
        },
        "c3318244bbc8427d8a6964095a5890ee": {
          "model_module": "@jupyter-widgets/controls",
          "model_name": "DescriptionStyleModel",
          "model_module_version": "1.5.0",
          "state": {
            "_model_module": "@jupyter-widgets/controls",
            "_model_module_version": "1.5.0",
            "_model_name": "DescriptionStyleModel",
            "_view_count": null,
            "_view_module": "@jupyter-widgets/base",
            "_view_module_version": "1.2.0",
            "_view_name": "StyleView",
            "description_width": ""
          }
        },
        "b693e2f6ffde4fd7ba95714b87d89016": {
          "model_module": "@jupyter-widgets/base",
          "model_name": "LayoutModel",
          "model_module_version": "1.2.0",
          "state": {
            "_model_module": "@jupyter-widgets/base",
            "_model_module_version": "1.2.0",
            "_model_name": "LayoutModel",
            "_view_count": null,
            "_view_module": "@jupyter-widgets/base",
            "_view_module_version": "1.2.0",
            "_view_name": "LayoutView",
            "align_content": null,
            "align_items": null,
            "align_self": null,
            "border": null,
            "bottom": null,
            "display": null,
            "flex": null,
            "flex_flow": null,
            "grid_area": null,
            "grid_auto_columns": null,
            "grid_auto_flow": null,
            "grid_auto_rows": null,
            "grid_column": null,
            "grid_gap": null,
            "grid_row": null,
            "grid_template_areas": null,
            "grid_template_columns": null,
            "grid_template_rows": null,
            "height": null,
            "justify_content": null,
            "justify_items": null,
            "left": null,
            "margin": null,
            "max_height": null,
            "max_width": null,
            "min_height": null,
            "min_width": null,
            "object_fit": null,
            "object_position": null,
            "order": null,
            "overflow": null,
            "overflow_x": null,
            "overflow_y": null,
            "padding": null,
            "right": null,
            "top": null,
            "visibility": null,
            "width": null
          }
        },
        "daf292eccd5d4eccaf4e0d0cc973a00c": {
          "model_module": "@jupyter-widgets/controls",
          "model_name": "ProgressStyleModel",
          "model_module_version": "1.5.0",
          "state": {
            "_model_module": "@jupyter-widgets/controls",
            "_model_module_version": "1.5.0",
            "_model_name": "ProgressStyleModel",
            "_view_count": null,
            "_view_module": "@jupyter-widgets/base",
            "_view_module_version": "1.2.0",
            "_view_name": "StyleView",
            "bar_color": null,
            "description_width": ""
          }
        },
        "6dd9f4beb77a42868150f47b0820d2a5": {
          "model_module": "@jupyter-widgets/base",
          "model_name": "LayoutModel",
          "model_module_version": "1.2.0",
          "state": {
            "_model_module": "@jupyter-widgets/base",
            "_model_module_version": "1.2.0",
            "_model_name": "LayoutModel",
            "_view_count": null,
            "_view_module": "@jupyter-widgets/base",
            "_view_module_version": "1.2.0",
            "_view_name": "LayoutView",
            "align_content": null,
            "align_items": null,
            "align_self": null,
            "border": null,
            "bottom": null,
            "display": null,
            "flex": null,
            "flex_flow": null,
            "grid_area": null,
            "grid_auto_columns": null,
            "grid_auto_flow": null,
            "grid_auto_rows": null,
            "grid_column": null,
            "grid_gap": null,
            "grid_row": null,
            "grid_template_areas": null,
            "grid_template_columns": null,
            "grid_template_rows": null,
            "height": null,
            "justify_content": null,
            "justify_items": null,
            "left": null,
            "margin": null,
            "max_height": null,
            "max_width": null,
            "min_height": null,
            "min_width": null,
            "object_fit": null,
            "object_position": null,
            "order": null,
            "overflow": null,
            "overflow_x": null,
            "overflow_y": null,
            "padding": null,
            "right": null,
            "top": null,
            "visibility": null,
            "width": null
          }
        },
        "d734211f69c54b94a8e60473593d2575": {
          "model_module": "@jupyter-widgets/controls",
          "model_name": "DescriptionStyleModel",
          "model_module_version": "1.5.0",
          "state": {
            "_model_module": "@jupyter-widgets/controls",
            "_model_module_version": "1.5.0",
            "_model_name": "DescriptionStyleModel",
            "_view_count": null,
            "_view_module": "@jupyter-widgets/base",
            "_view_module_version": "1.2.0",
            "_view_name": "StyleView",
            "description_width": ""
          }
        }
      }
    }
  },
  "nbformat": 4,
  "nbformat_minor": 0
}