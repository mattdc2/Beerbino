{
 "cells": [
  {
   "cell_type": "code",
   "execution_count": 2,
   "metadata": {},
   "outputs": [],
   "source": [
    "import numpy as np\n",
    "import pandas as pd\n",
    "import requests\n",
    "from bs4 import BeautifulSoup\n",
    "from urllib.request import urlopen"
   ]
  },
  {
   "cell_type": "code",
   "execution_count": 3,
   "metadata": {},
   "outputs": [],
   "source": [
    "df = pd.read_excel(\"./data_beers.xlsx\")\n",
    "df.drop(columns=['Unnamed: 0'], inplace=True)"
   ]
  },
  {
   "cell_type": "code",
   "execution_count": 4,
   "metadata": {},
   "outputs": [],
   "source": [
    "auchan = df[df['website'] == 'Auchan']"
   ]
  },
  {
   "cell_type": "code",
   "execution_count": 5,
   "metadata": {},
   "outputs": [],
   "source": [
    "to_delete = []\n",
    "\n",
    "for index, row in auchan.iterrows() :\n",
    "    l_name = str(row['name']).split(' ')\n",
    "    excluded_terms = ['boîte', 'bouteilles', 'Calendrier', 'whisky']\n",
    "    flag = True\n",
    "    for word in l_name :\n",
    "        if word in excluded_terms :\n",
    "            flag = False\n",
    "            to_delete.append(index)\n",
    "            break"
   ]
  },
  {
   "cell_type": "code",
   "execution_count": 30,
   "metadata": {},
   "outputs": [
    {
     "data": {
      "text/html": [
       "<div>\n",
       "<style scoped>\n",
       "    .dataframe tbody tr th:only-of-type {\n",
       "        vertical-align: middle;\n",
       "    }\n",
       "\n",
       "    .dataframe tbody tr th {\n",
       "        vertical-align: top;\n",
       "    }\n",
       "\n",
       "    .dataframe thead th {\n",
       "        text-align: right;\n",
       "    }\n",
       "</style>\n",
       "<table border=\"1\" class=\"dataframe\">\n",
       "  <thead>\n",
       "    <tr style=\"text-align: right;\">\n",
       "      <th></th>\n",
       "      <th>index</th>\n",
       "      <th>link_photo</th>\n",
       "      <th>name</th>\n",
       "      <th>brand</th>\n",
       "      <th>type</th>\n",
       "      <th>website</th>\n",
       "      <th>price</th>\n",
       "    </tr>\n",
       "  </thead>\n",
       "  <tbody>\n",
       "    <tr>\n",
       "      <th>75</th>\n",
       "      <td>75</td>\n",
       "      <td>https://media.auchan.fr/MEDIASTEP85730603_230x...</td>\n",
       "      <td>Bière Belge d'Abbaye ambrée 6,6%</td>\n",
       "      <td>LEFFE</td>\n",
       "      <td>NaN</td>\n",
       "      <td>Auchan</td>\n",
       "      <td>NaN</td>\n",
       "    </tr>\n",
       "  </tbody>\n",
       "</table>\n",
       "</div>"
      ],
      "text/plain": [
       "    index                                         link_photo  \\\n",
       "75     75  https://media.auchan.fr/MEDIASTEP85730603_230x...   \n",
       "\n",
       "                                name  brand type website price  \n",
       "75  Bière Belge d'Abbaye ambrée 6,6%  LEFFE  NaN  Auchan   NaN  "
      ]
     },
     "execution_count": 30,
     "metadata": {},
     "output_type": "execute_result"
    }
   ],
   "source": [
    "auchan[auchan['index'] == 75]"
   ]
  },
  {
   "cell_type": "code",
   "execution_count": null,
   "metadata": {},
   "outputs": [],
   "source": []
  }
 ],
 "metadata": {
  "interpreter": {
   "hash": "1bf4d4cb250d31dddcb8248c53368315184eafaf33bbcb7c84945996a1f3ee9a"
  },
  "kernelspec": {
   "display_name": "Python 3.8.12 ('new')",
   "language": "python",
   "name": "python3"
  },
  "language_info": {
   "codemirror_mode": {
    "name": "ipython",
    "version": 3
   },
   "file_extension": ".py",
   "mimetype": "text/x-python",
   "name": "python",
   "nbconvert_exporter": "python",
   "pygments_lexer": "ipython3",
   "version": "3.8.12"
  },
  "orig_nbformat": 4
 },
 "nbformat": 4,
 "nbformat_minor": 2
}
